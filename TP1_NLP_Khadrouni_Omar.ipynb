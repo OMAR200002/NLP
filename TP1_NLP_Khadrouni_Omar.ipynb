{
  "nbformat": 4,
  "nbformat_minor": 0,
  "metadata": {
    "colab": {
      "provenance": []
    },
    "kernelspec": {
      "name": "python3",
      "display_name": "Python 3"
    },
    "language_info": {
      "name": "python"
    }
  },
  "cells": [
    {
      "cell_type": "code",
      "execution_count": 50,
      "metadata": {
        "id": "hiW5tN6IavQA"
      },
      "outputs": [],
      "source": [
        "import pandas as pd"
      ]
    },
    {
      "cell_type": "code",
      "source": [
        "df = pd.read_csv('sample.csv')\n",
        "df['text']"
      ],
      "metadata": {
        "colab": {
          "base_uri": "https://localhost:8080/"
        },
        "id": "N29nCWNibaOs",
        "outputId": "410f8a6c-6e06-4748-a081-809f14af6095"
      },
      "execution_count": 51,
      "outputs": [
        {
          "output_type": "execute_result",
          "data": {
            "text/plain": [
              "0     @AppleSupport causing the reply to be disregar...\n",
              "1     @105835 Your business means a lot to us. Pleas...\n",
              "2     @76328 I really hope you all change but I'm su...\n",
              "3     @105836 LiveChat is online at the moment - htt...\n",
              "4     @VirginTrains see attached error message. I've...\n",
              "                            ...                        \n",
              "88    @105860 I wish Amazon had an option of where I...\n",
              "89    They reschedule my shit for tomorrow https://t...\n",
              "90    @105861 Hey Sara, sorry to hear of the issues ...\n",
              "91    @Tesco bit of both - finding the layout cumber...\n",
              "92    @105861 If that doesn't help please DM your fu...\n",
              "Name: text, Length: 93, dtype: object"
            ]
          },
          "metadata": {},
          "execution_count": 51
        }
      ]
    },
    {
      "cell_type": "code",
      "source": [
        "#Lower case\n",
        "\n",
        "lowercase_text = df['text'].str.lower()\n",
        "\n",
        "print(lowercase_text)"
      ],
      "metadata": {
        "colab": {
          "base_uri": "https://localhost:8080/"
        },
        "id": "41_M2dncbthj",
        "outputId": "b76469a9-8fb4-476a-cba6-295cc49c08aa"
      },
      "execution_count": 52,
      "outputs": [
        {
          "output_type": "stream",
          "name": "stdout",
          "text": [
            "0     @applesupport causing the reply to be disregar...\n",
            "1     @105835 your business means a lot to us. pleas...\n",
            "2     @76328 i really hope you all change but i'm su...\n",
            "3     @105836 livechat is online at the moment - htt...\n",
            "4     @virgintrains see attached error message. i've...\n",
            "                            ...                        \n",
            "88    @105860 i wish amazon had an option of where i...\n",
            "89    they reschedule my shit for tomorrow https://t...\n",
            "90    @105861 hey sara, sorry to hear of the issues ...\n",
            "91    @tesco bit of both - finding the layout cumber...\n",
            "92    @105861 if that doesn't help please dm your fu...\n",
            "Name: text, Length: 93, dtype: object\n"
          ]
        }
      ]
    },
    {
      "cell_type": "code",
      "source": [
        "##Remove punctuation and emojis\n",
        "\n",
        "import regex as re\n",
        "# Function to remove punctuation and emojis from a string\n",
        "def remove_special_characters(text):\n",
        "    # Remove punctuation\n",
        "    text = text.translate(str.maketrans(\"\", \"\", string.punctuation))\n",
        "    # Remove emojis\n",
        "    text = re.sub(r'\\p{So}', '', text)\n",
        "    return text\n",
        "\n",
        "text = lowercase_text.apply(remove_special_characters)\n",
        "text[0]"
      ],
      "metadata": {
        "colab": {
          "base_uri": "https://localhost:8080/",
          "height": 35
        },
        "id": "wQOOFIcecDmH",
        "outputId": "415b4811-d3f0-4003-defe-547ffb10eda3"
      },
      "execution_count": 53,
      "outputs": [
        {
          "output_type": "execute_result",
          "data": {
            "text/plain": [
              "'applesupport causing the reply to be disregarded and the tapped notification under the keyboard is opened'"
            ],
            "application/vnd.google.colaboratory.intrinsic+json": {
              "type": "string"
            }
          },
          "metadata": {},
          "execution_count": 53
        }
      ]
    },
    {
      "cell_type": "code",
      "source": [
        "##Remove Stop Words\n",
        "from nltk.corpus import stopwords\n",
        "nltk.download('stopwords')\n",
        "stop_words = set(stopwords.words('english'))\n",
        "\n",
        "# Function to remove stop words from a text\n",
        "def remove_stopwords(text):\n",
        "    words = text.split()\n",
        "    filtered_words = [word for word in words if word.lower() not in stop_words]  # Remove stop words\n",
        "    return ' '.join(filtered_words)\n",
        "\n",
        "text = text.apply(remove_stopwords)\n",
        "text[0]"
      ],
      "metadata": {
        "colab": {
          "base_uri": "https://localhost:8080/",
          "height": 70
        },
        "id": "RCsrV64LgcW_",
        "outputId": "6e30097c-bb7e-4e2e-ecf3-4c6394510e8e"
      },
      "execution_count": 54,
      "outputs": [
        {
          "output_type": "stream",
          "name": "stderr",
          "text": [
            "[nltk_data] Downloading package stopwords to /root/nltk_data...\n",
            "[nltk_data]   Package stopwords is already up-to-date!\n"
          ]
        },
        {
          "output_type": "execute_result",
          "data": {
            "text/plain": [
              "'applesupport causing reply disregarded tapped notification keyboard opened'"
            ],
            "application/vnd.google.colaboratory.intrinsic+json": {
              "type": "string"
            }
          },
          "metadata": {},
          "execution_count": 54
        }
      ]
    },
    {
      "cell_type": "code",
      "source": [
        "##Tokenesation\n",
        "nltk.download('punkt')\n",
        "from nltk.tokenize import word_tokenize\n",
        "\n",
        "def tokenize_text(text):\n",
        "    return word_tokenize(text)\n",
        "\n",
        "text = text.apply(lambda text: tokenize_text(text))\n",
        "text[0]"
      ],
      "metadata": {
        "colab": {
          "base_uri": "https://localhost:8080/"
        },
        "id": "I5LlHaFOdymI",
        "outputId": "f9cb82d9-b7e4-402b-c72a-afea639344f6"
      },
      "execution_count": 55,
      "outputs": [
        {
          "output_type": "stream",
          "name": "stderr",
          "text": [
            "[nltk_data] Downloading package punkt to /root/nltk_data...\n",
            "[nltk_data]   Package punkt is already up-to-date!\n"
          ]
        },
        {
          "output_type": "execute_result",
          "data": {
            "text/plain": [
              "['applesupport',\n",
              " 'causing',\n",
              " 'reply',\n",
              " 'disregarded',\n",
              " 'tapped',\n",
              " 'notification',\n",
              " 'keyboard',\n",
              " 'opened']"
            ]
          },
          "metadata": {},
          "execution_count": 55
        }
      ]
    },
    {
      "cell_type": "code",
      "source": [
        "##Stemming\n",
        "from nltk.stem import PorterStemmer\n",
        "\n",
        "porter_stemmer = PorterStemmer()\n",
        "\n",
        "def stem_text(text):\n",
        "    stemmed_words = [porter_stemmer.stem(word) for word in text]  # Perform stemming\n",
        "    return ' '.join(stemmed_words)\n",
        "\n",
        "stemmed_text = text.apply(stem_text)\n",
        "stemmed_text[0]"
      ],
      "metadata": {
        "colab": {
          "base_uri": "https://localhost:8080/",
          "height": 35
        },
        "id": "Z3SiJ7XWlQgo",
        "outputId": "67db06a4-c2ad-413b-a95b-4c9286e81671"
      },
      "execution_count": 56,
      "outputs": [
        {
          "output_type": "execute_result",
          "data": {
            "text/plain": [
              "'applesupport caus repli disregard tap notif keyboard open'"
            ],
            "application/vnd.google.colaboratory.intrinsic+json": {
              "type": "string"
            }
          },
          "metadata": {},
          "execution_count": 56
        }
      ]
    },
    {
      "cell_type": "code",
      "source": [
        "text[0]"
      ],
      "metadata": {
        "colab": {
          "base_uri": "https://localhost:8080/"
        },
        "id": "XYl5WNKlqopH",
        "outputId": "579fe620-5287-4df7-ca91-7975b63646c0"
      },
      "execution_count": 57,
      "outputs": [
        {
          "output_type": "execute_result",
          "data": {
            "text/plain": [
              "['applesupport',\n",
              " 'causing',\n",
              " 'reply',\n",
              " 'disregarded',\n",
              " 'tapped',\n",
              " 'notification',\n",
              " 'keyboard',\n",
              " 'opened']"
            ]
          },
          "metadata": {},
          "execution_count": 57
        }
      ]
    },
    {
      "cell_type": "code",
      "source": [
        "##Lemmatisation\n",
        "import nltk\n",
        "nltk.download('wordnet')\n",
        "from nltk.stem import WordNetLemmatizer\n",
        "\n",
        "\n",
        "lemmatizer = WordNetLemmatizer()\n",
        "\n",
        "\n",
        "def lemm_text(text):\n",
        "    lemmatize_words = [lemmatizer.lemmatize(word) for word in text]  # Perform Lemmatisation\n",
        "    return ' '.join(lemmatize_words)\n",
        "\n",
        "lem_text = text.apply(lemm_text)\n",
        "lem_text[0]"
      ],
      "metadata": {
        "colab": {
          "base_uri": "https://localhost:8080/",
          "height": 70
        },
        "id": "I6oGKjGxmWSO",
        "outputId": "3f6fc173-3ba9-4ef4-e0b5-bf53eaba592f"
      },
      "execution_count": 58,
      "outputs": [
        {
          "output_type": "stream",
          "name": "stderr",
          "text": [
            "[nltk_data] Downloading package wordnet to /root/nltk_data...\n",
            "[nltk_data]   Package wordnet is already up-to-date!\n"
          ]
        },
        {
          "output_type": "execute_result",
          "data": {
            "text/plain": [
              "'applesupport causing reply disregarded tapped notification keyboard opened'"
            ],
            "application/vnd.google.colaboratory.intrinsic+json": {
              "type": "string"
            }
          },
          "metadata": {},
          "execution_count": 58
        }
      ]
    }
  ]
}